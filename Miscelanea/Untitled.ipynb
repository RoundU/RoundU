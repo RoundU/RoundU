{
 "cells": [
  {
   "cell_type": "code",
   "execution_count": 1,
   "metadata": {},
   "outputs": [],
   "source": [
    "import pandas as pd"
   ]
  },
  {
   "cell_type": "code",
   "execution_count": 6,
   "metadata": {},
   "outputs": [
    {
     "data": {
      "text/html": [
       "<div>\n",
       "<style scoped>\n",
       "    .dataframe tbody tr th:only-of-type {\n",
       "        vertical-align: middle;\n",
       "    }\n",
       "\n",
       "    .dataframe tbody tr th {\n",
       "        vertical-align: top;\n",
       "    }\n",
       "\n",
       "    .dataframe thead th {\n",
       "        text-align: right;\n",
       "    }\n",
       "</style>\n",
       "<table border=\"1\" class=\"dataframe\">\n",
       "  <thead>\n",
       "    <tr style=\"text-align: right;\">\n",
       "      <th></th>\n",
       "      <th>ID</th>\n",
       "      <th>COUNTRY</th>\n",
       "      <th>URL</th>\n",
       "      <th>HEADLINE</th>\n",
       "      <th>DATE</th>\n",
       "      <th>TAG</th>\n",
       "    </tr>\n",
       "  </thead>\n",
       "  <tbody>\n",
       "    <tr>\n",
       "      <th>0</th>\n",
       "      <td>441</td>\n",
       "      <td>ESP</td>\n",
       "      <td>http://www.elmundo.es/economia/empresas/2018/0...</td>\n",
       "      <td>El Santander ganó  un 7% más en 2017  tras int...</td>\n",
       "      <td>2018-01-31 07:29:31 CET</td>\n",
       "      <td>SAFE</td>\n",
       "    </tr>\n",
       "    <tr>\n",
       "      <th>1</th>\n",
       "      <td>452</td>\n",
       "      <td>ESP</td>\n",
       "      <td>https://elpais.com/politica/2018/01/30/actuali...</td>\n",
       "      <td>El Gobierno confía en que ERC postule a otro c...</td>\n",
       "      <td>2018-01-31 09:29:18 CET</td>\n",
       "      <td>UNSAFE</td>\n",
       "    </tr>\n",
       "    <tr>\n",
       "      <th>2</th>\n",
       "      <td>454</td>\n",
       "      <td>ESP</td>\n",
       "      <td>http://www.elmundo.es/deportes/futbol/2018/01/...</td>\n",
       "      <td>El agente de futbolistas Quique Pina, detenido...</td>\n",
       "      <td>2018-01-31 11:01:45 CET</td>\n",
       "      <td>UNSAFE</td>\n",
       "    </tr>\n",
       "    <tr>\n",
       "      <th>3</th>\n",
       "      <td>835</td>\n",
       "      <td>ESP</td>\n",
       "      <td>https://elpais.com/economia/2018/02/01/actuali...</td>\n",
       "      <td>La web y la app de ING Direct se caen durante ...</td>\n",
       "      <td>2018-02-01 09:52:33 CET</td>\n",
       "      <td>UNSAFE</td>\n",
       "    </tr>\n",
       "    <tr>\n",
       "      <th>4</th>\n",
       "      <td>1272</td>\n",
       "      <td>ESP</td>\n",
       "      <td>http://www.elmundo.es/loc/famosos/2018/02/02/5...</td>\n",
       "      <td>La polémica  del duque de Alba: busca becarios...</td>\n",
       "      <td>2018-02-02 12:47:25 CET</td>\n",
       "      <td>UNSAFE</td>\n",
       "    </tr>\n",
       "  </tbody>\n",
       "</table>\n",
       "</div>"
      ],
      "text/plain": [
       "     ID COUNTRY                                                URL  \\\n",
       "0   441     ESP  http://www.elmundo.es/economia/empresas/2018/0...   \n",
       "1   452     ESP  https://elpais.com/politica/2018/01/30/actuali...   \n",
       "2   454     ESP  http://www.elmundo.es/deportes/futbol/2018/01/...   \n",
       "3   835     ESP  https://elpais.com/economia/2018/02/01/actuali...   \n",
       "4  1272     ESP  http://www.elmundo.es/loc/famosos/2018/02/02/5...   \n",
       "\n",
       "                                            HEADLINE                     DATE  \\\n",
       "0  El Santander ganó  un 7% más en 2017  tras int...  2018-01-31 07:29:31 CET   \n",
       "1  El Gobierno confía en que ERC postule a otro c...  2018-01-31 09:29:18 CET   \n",
       "2  El agente de futbolistas Quique Pina, detenido...  2018-01-31 11:01:45 CET   \n",
       "3  La web y la app de ING Direct se caen durante ...  2018-02-01 09:52:33 CET   \n",
       "4  La polémica  del duque de Alba: busca becarios...  2018-02-02 12:47:25 CET   \n",
       "\n",
       "      TAG  \n",
       "0    SAFE  \n",
       "1  UNSAFE  \n",
       "2  UNSAFE  \n",
       "3  UNSAFE  \n",
       "4  UNSAFE  "
      ]
     },
     "execution_count": 6,
     "metadata": {},
     "output_type": "execute_result"
    }
   ],
   "source": [
    "data = pd.read_csv(\"SANSE_dev-2.tsv\", sep=\"\\t\")\n",
    "data.head()"
   ]
  },
  {
   "cell_type": "code",
   "execution_count": null,
   "metadata": {},
   "outputs": [],
   "source": []
  }
 ],
 "metadata": {
  "kernelspec": {
   "display_name": "Python 3",
   "language": "python",
   "name": "python3"
  },
  "language_info": {
   "codemirror_mode": {
    "name": "ipython",
    "version": 3
   },
   "file_extension": ".py",
   "mimetype": "text/x-python",
   "name": "python",
   "nbconvert_exporter": "python",
   "pygments_lexer": "ipython3",
   "version": "3.6.5"
  }
 },
 "nbformat": 4,
 "nbformat_minor": 2
}
