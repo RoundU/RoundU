{
 "cells": [
  {
   "cell_type": "markdown",
   "metadata": {},
   "source": [
    "https://rare-technologies.com/word2vec-tutorial/"
   ]
  },
  {
   "cell_type": "markdown",
   "metadata": {},
   "source": [
    "lo que hacemos es utilizar una red neuronal para interrelacionar las palabras de un texto.\n",
    "Como?\n",
    "\n",
    "usando un autoencoder al que luego quitamos la ultima capa, esto nos da los vectores de cada palabra una red neuronal con n entradas (palabras unicas en el texto), m neuronas en capa intermedia, y o neuronas en la salida. el sistema intenta predecir qué palabra vendrá despues de cada palabra de entrada. siendo la palabra un vector de 1Xn.\n",
    "\n",
    "el sistema aprenderá que palabras con vectores parecidos estan inter relacionadas (pertenecen al mismo tema)\n",
    "\n",
    "al cortar la capa final, lo que nos queda es una matriz de datos con la probabilidad de aparicion de una palabra para las demas. eso es un vector"
   ]
  },
  {
   "cell_type": "code",
   "execution_count": 6,
   "metadata": {},
   "outputs": [],
   "source": [
    "import gensim\n",
    "import pandas as pd\n",
    "import pyodbc \n"
   ]
  },
  {
   "cell_type": "code",
   "execution_count": null,
   "metadata": {},
   "outputs": [],
   "source": [
    "import configLocal\n",
    "server = configLocal.server\n",
    "database = configLocal.database\n",
    "username = configLocal.username\n",
    "password = configLocal.password\n",
    "cnxn = configLocal.cnxn\n",
    "cursor = cnxn.cursor()"
   ]
  },
  {
   "cell_type": "code",
   "execution_count": null,
   "metadata": {},
   "outputs": [],
   "source": [
    "data = pd.read_sql_query(\"select msg_id, msg_users_id, msg_timestamp, msg_text from dbo.msg\", cnxn)"
   ]
  },
  {
   "cell_type": "code",
   "execution_count": null,
   "metadata": {},
   "outputs": [],
   "source": [
    "data.head()"
   ]
  },
  {
   "cell_type": "code",
   "execution_count": null,
   "metadata": {},
   "outputs": [],
   "source": [
    "data.shape"
   ]
  },
  {
   "cell_type": "code",
   "execution_count": null,
   "metadata": {},
   "outputs": [],
   "source": [
    "corpus = {}\n",
    "for i in range(data.shape[0]):\n",
    "    if data.iloc[i][\"msg_users_id\"] in corpus:\n",
    "        corpus[data.iloc[i][\"msg_users_id\"]].append(re.sub(r'http\\S+', '', data.iloc[i][\"msg_text\"], flags=re.MULTILINE))\n",
    "    else:\n",
    "        corpus[data.iloc[i][\"msg_users_id\"]] = [re.sub(r'http\\S+', '', data.iloc[i][\"msg_text\"], flags=re.MULTILINE)]\n",
    "type(corpus), len(corpus)"
   ]
  },
  {
   "cell_type": "code",
   "execution_count": null,
   "metadata": {},
   "outputs": [],
   "source": [
    "corpus[\"428308122\"]"
   ]
  },
  {
   "cell_type": "code",
   "execution_count": null,
   "metadata": {},
   "outputs": [],
   "source": [
    "for i in corpus.keys():\n",
    "    corpus[i] = gensim.utils.simple_preprocess(\"\".join(corpus[i]).encode('utf-8'), deacc=True, min_len=3)"
   ]
  },
  {
   "cell_type": "code",
   "execution_count": 61,
   "metadata": {
    "collapsed": true
   },
   "outputs": [
    {
     "data": {
      "text/plain": [
       "['aritzeta',\n",
       " 'bibiloni',\n",
       " 'josepmcld',\n",
       " 'ratafia_party',\n",
       " 'jbadia',\n",
       " 'tambe',\n",
       " 'pero',\n",
       " 'diria',\n",
       " 'que',\n",
       " 'reflexiu',\n",
       " 'estar',\n",
       " 'sobrer',\n",
       " 'cupriudoms',\n",
       " 'vist',\n",
       " 'casualitat',\n",
       " 'millor',\n",
       " 'josefina',\n",
       " 'martonamg',\n",
       " 'fananwa',\n",
       " 'quan',\n",
       " 'fou',\n",
       " 'mort',\n",
       " 'combregaren',\n",
       " 'equival',\n",
       " 'buenas',\n",
       " 'horas',\n",
       " 'mangas',\n",
       " 'verdes',\n",
       " 'literaturaimes',\n",
       " 'enricgoma',\n",
       " 'martonamg',\n",
       " 'quan',\n",
       " 'fou',\n",
       " 'mort',\n",
       " 'combregaren',\n",
       " 'equival',\n",
       " 'buenas',\n",
       " 'horas',\n",
       " 'mangas',\n",
       " 'verdes',\n",
       " 'mauletgroc',\n",
       " 'martonamg',\n",
       " 'quan',\n",
       " 'fou',\n",
       " 'mort',\n",
       " 'combregaren',\n",
       " 'equival',\n",
       " 'buenas',\n",
       " 'horas',\n",
       " 'mangas',\n",
       " 'verdes',\n",
       " 'trudigonzlezma',\n",
       " 'martonamg',\n",
       " 'potser',\n",
       " 'victoracedoma',\n",
       " 'bibiloni',\n",
       " 'josepmcld',\n",
       " 'ratafia_party',\n",
       " 'jbadia',\n",
       " 'fakerragut',\n",
       " 'romeucarles',\n",
       " 'vogelfreicat',\n",
       " 'que']"
      ]
     },
     "execution_count": 61,
     "metadata": {},
     "output_type": "execute_result"
    }
   ],
   "source": [
    "corpus[\"428308122\"]"
   ]
  },
  {
   "cell_type": "code",
   "execution_count": null,
   "metadata": {},
   "outputs": [],
   "source": [
    "#prueba de una lista de listas de strings por usuario\n",
    "df = []\n",
    "for i in corpus.keys():\n",
    "    df.append(corpus[i])"
   ]
  },
  {
   "cell_type": "code",
   "execution_count": null,
   "metadata": {},
   "outputs": [],
   "source": [
    "df = []\n",
    "for i in corpus.keys():\n",
    "    for j in corpus[i]:\n",
    "        df.append(j)"
   ]
  },
  {
   "cell_type": "code",
   "execution_count": null,
   "metadata": {},
   "outputs": [],
   "source": [
    "print(\"List of lists. Let's confirm: \", type(df), \" of \", type(df[0]))"
   ]
  },
  {
   "cell_type": "code",
   "execution_count": null,
   "metadata": {},
   "outputs": [],
   "source": [
    "#size: Nª of layers\n",
    "#window: Maximum distance between the current and predicted word within a sentence\n",
    "#min_count: nº of times a word repeats to be taken into account\n",
    "#sg: training algorithm. 0=cbow, 1=skip-gram\n",
    "#workers: nº of cores running. no cyton installed--> no paralelization\n",
    "\n",
    "model = gensim.models.Word2Vec(size=150, window=8, min_count=5, sg=1, workers=10)\n",
    "model.build_vocab(df)  # prepare the model vocabulary"
   ]
  },
  {
   "cell_type": "code",
   "execution_count": 81,
   "metadata": {},
   "outputs": [
    {
     "name": "stderr",
     "output_type": "stream",
     "text": [
      "C:\\ProgramData\\Anaconda3\\lib\\site-packages\\ipykernel_launcher.py:2: DeprecationWarning: Call to deprecated `iter` (Attribute will be removed in 4.0.0, use self.epochs instead).\n",
      "  \n"
     ]
    },
    {
     "data": {
      "text/plain": [
       "(987705, 1478415)"
      ]
     },
     "execution_count": 81,
     "metadata": {},
     "output_type": "execute_result"
    }
   ],
   "source": [
    "#training the model\n",
    "model.train(sentences=df, total_examples=len(df), epochs=model.iter)"
   ]
  },
  {
   "cell_type": "code",
   "execution_count": 83,
   "metadata": {},
   "outputs": [],
   "source": [
    "#save the model\n",
    "model.save('./data/model')"
   ]
  },
  {
   "cell_type": "code",
   "execution_count": 4,
   "metadata": {},
   "outputs": [
    {
     "ename": "NameError",
     "evalue": "name 'Word2Vec' is not defined",
     "output_type": "error",
     "traceback": [
      "\u001b[1;31m---------------------------------------------------------------------------\u001b[0m",
      "\u001b[1;31mNameError\u001b[0m                                 Traceback (most recent call last)",
      "\u001b[1;32m<ipython-input-4-89ae90b87438>\u001b[0m in \u001b[0;36m<module>\u001b[1;34m\u001b[0m\n\u001b[1;32m----> 1\u001b[1;33m \u001b[0mmodel\u001b[0m \u001b[1;33m=\u001b[0m \u001b[0mWord2Vec\u001b[0m\u001b[1;33m.\u001b[0m\u001b[0mload\u001b[0m\u001b[1;33m(\u001b[0m\u001b[1;34m\"*/data/model\"\u001b[0m\u001b[1;33m)\u001b[0m\u001b[1;33m\u001b[0m\u001b[1;33m\u001b[0m\u001b[0m\n\u001b[0m",
      "\u001b[1;31mNameError\u001b[0m: name 'Word2Vec' is not defined"
     ]
    }
   ],
   "source": [
    "model = Word2Vec.load(\"*/data/model\")"
   ]
  },
  {
   "cell_type": "code",
   "execution_count": 2,
   "metadata": {},
   "outputs": [
    {
     "ename": "NameError",
     "evalue": "name 'model' is not defined",
     "output_type": "error",
     "traceback": [
      "\u001b[1;31m---------------------------------------------------------------------------\u001b[0m",
      "\u001b[1;31mNameError\u001b[0m                                 Traceback (most recent call last)",
      "\u001b[1;32m<ipython-input-2-45ebf49f1b26>\u001b[0m in \u001b[0;36m<module>\u001b[1;34m\u001b[0m\n\u001b[1;32m----> 1\u001b[1;33m \u001b[0mmodel\u001b[0m\u001b[1;33m.\u001b[0m\u001b[0mload\u001b[0m\u001b[1;33m(\u001b[0m\u001b[1;34m'./data/model'\u001b[0m\u001b[1;33m)\u001b[0m\u001b[1;33m\u001b[0m\u001b[1;33m\u001b[0m\u001b[0m\n\u001b[0m\u001b[0;32m      2\u001b[0m \u001b[0mword_vectors\u001b[0m \u001b[1;33m=\u001b[0m \u001b[0mmodel\u001b[0m\u001b[1;33m.\u001b[0m\u001b[0mwv\u001b[0m\u001b[1;33m\u001b[0m\u001b[1;33m\u001b[0m\u001b[0m\n\u001b[0;32m      3\u001b[0m \u001b[0mcount\u001b[0m \u001b[1;33m=\u001b[0m \u001b[1;36m0\u001b[0m\u001b[1;33m\u001b[0m\u001b[1;33m\u001b[0m\u001b[0m\n\u001b[0;32m      4\u001b[0m \u001b[1;32mfor\u001b[0m \u001b[0mword\u001b[0m \u001b[1;32min\u001b[0m \u001b[0mword_vectors\u001b[0m\u001b[1;33m.\u001b[0m\u001b[0mvocab\u001b[0m\u001b[1;33m:\u001b[0m\u001b[1;33m\u001b[0m\u001b[1;33m\u001b[0m\u001b[0m\n\u001b[0;32m      5\u001b[0m     \u001b[1;32mif\u001b[0m \u001b[0mcount\u001b[0m\u001b[1;33m<\u001b[0m\u001b[1;36m10\u001b[0m\u001b[1;33m:\u001b[0m\u001b[1;33m\u001b[0m\u001b[1;33m\u001b[0m\u001b[0m\n",
      "\u001b[1;31mNameError\u001b[0m: name 'model' is not defined"
     ]
    }
   ],
   "source": [
    "word_vectors = model.wv\n",
    "count = 0\n",
    "for word in word_vectors.vocab:\n",
    "    if count<10:\n",
    "        print(word)\n",
    "        count += 1\n",
    "    else:\n",
    "        break"
   ]
  },
  {
   "cell_type": "code",
   "execution_count": null,
   "metadata": {},
   "outputs": [],
   "source": [
    "len(word_vectors.vocab)"
   ]
  },
  {
   "cell_type": "code",
   "execution_count": 86,
   "metadata": {},
   "outputs": [
    {
     "name": "stdout",
     "output_type": "stream",
     "text": [
      "[('juegan', 0.897331953048706), ('salvo', 0.8857386112213135), ('pudo', 0.884837806224823), ('ganado', 0.8817203044891357), ('muerte', 0.8701326847076416), ('calle', 0.869951605796814), ('siendo', 0.8695622086524963), ('tendria', 0.8689562082290649), ('error', 0.8686603307723999), ('cambio', 0.8672849535942078)]\n"
     ]
    }
   ],
   "source": [
    "print(model.wv.most_similar(positive=[\"mujer\",\"rey\"],negative=[\"hombre\"]))"
   ]
  },
  {
   "cell_type": "code",
   "execution_count": 7,
   "metadata": {},
   "outputs": [
    {
     "name": "stdout",
     "output_type": "stream",
     "text": [
      "Loading vectors from file: data/WORD2VEC-Twitter-Espa_ol_para_Latinoam_rica__Espa_a_y_Estados_Unidos2.csv\n"
     ]
    },
    {
     "name": "stderr",
     "output_type": "stream",
     "text": [
      "C:\\ProgramData\\Anaconda3\\lib\\site-packages\\ipykernel_launcher.py:12: DeprecationWarning: Call to deprecated `syn0` (Attribute will be removed in 4.0.0, use self.vectors instead).\n",
      "  if sys.path[0] == '':\n",
      "C:\\ProgramData\\Anaconda3\\lib\\site-packages\\ipykernel_launcher.py:30: DeprecationWarning: Call to deprecated `syn0` (Attribute will be removed in 4.0.0, use self.vectors instead).\n"
     ]
    },
    {
     "name": "stdout",
     "output_type": "stream",
     "text": [
      "100000 word vectors loaded so far ...\n",
      "159742 word vectors loaded!\n"
     ]
    }
   ],
   "source": [
    "#now, lets load da big boi model\n",
    "\n",
    "from numpy import  zeros, float32 as REAL\n",
    "from gensim.models import keyedvectors\n",
    "import codecs\n",
    "\n",
    "# this function was build using code excerpts from:\n",
    "# https://github.com/RaRe-Technologies/gensim/blob/develop/gensim/models/keyedvectors.py\n",
    "def load_vectors_from_csv(fname,vocab_size=973265,vector_size=100):\n",
    "    print(\"Loading vectors from file:\",fname)\n",
    "    result=keyedvectors.KeyedVectors(vector_size=100)\n",
    "    result.syn0 = zeros((vocab_size, vector_size), dtype=REAL)\n",
    "    result.vecor_size=vector_size\n",
    "    counts=None   \n",
    "    def add_word(word, weights):\n",
    "        word_id = len(result.vocab)\n",
    "        if word in result.vocab:\n",
    "            print(\"duplicate word '%s' in %s, ignoring all but first\", word, fname)\n",
    "            return\n",
    "        if counts is None:\n",
    "            # most common scenario: no vocab file given. just make up some bogus counts, in descending order\n",
    "            result.vocab[word] = keyedvectors.Vocab(index=word_id, count=vocab_size - word_id)\n",
    "        elif word in counts:\n",
    "            # use count from the vocab file\n",
    "            result.vocab[word] = keyedvectors.Vocab(index=word_id, count=counts[word])\n",
    "        else:\n",
    "            # vocab file given, but word is missing -- set count to None (TODO: or raise?)\n",
    "            print(\"vocabulary file is incomplete: '%s' is missing\", word)\n",
    "            result.vocab[word] = keyedvectors.Vocab(index=word_id, count=None)\n",
    "        result.syn0[word_id] = weights\n",
    "        result.index2word.append(word)   \n",
    "    file=codecs.open(fname,\"r\",\"utf-8\")\n",
    "    i=0\n",
    "    for line in file:\n",
    "        i+=1\n",
    "        if i==1: #ommit header\n",
    "            continue\n",
    "        parts=line.strip().split(\",\")\n",
    "        word,weights=parts[1],[REAL(x) for x in parts[2:]]\n",
    "        add_word(word,weights)\n",
    "        if i%100000==0:\n",
    "            print(i,\"word vectors loaded so far ...\")\n",
    "    file.close()\n",
    "    print(i-1,\"word vectors loaded!\")\n",
    "    return result\n",
    "    \n",
    "\n",
    "    \n",
    "model=load_vectors_from_csv(\"data/WORD2VEC-Twitter-Espa_ol_para_Latinoam_rica__Espa_a_y_Estados_Unidos2.csv\")"
   ]
  },
  {
   "cell_type": "code",
   "execution_count": 36,
   "metadata": {},
   "outputs": [
    {
     "name": "stderr",
     "output_type": "stream",
     "text": [
      "C:\\ProgramData\\Anaconda3\\lib\\site-packages\\ipykernel_launcher.py:2: DeprecationWarning: Call to deprecated `wv` (Attribute will be removed in 4.0.0, use self instead).\n",
      "  \n"
     ]
    },
    {
     "data": {
      "text/plain": [
       "'pais'"
      ]
     },
     "execution_count": 36,
     "metadata": {},
     "output_type": "execute_result"
    }
   ],
   "source": [
    "#cual no corresponde?\n",
    "model.wv.doesnt_match([\"pais\", \"hombre\",\"mujer\"])"
   ]
  },
  {
   "cell_type": "code",
   "execution_count": 20,
   "metadata": {},
   "outputs": [
    {
     "name": "stdout",
     "output_type": "stream",
     "text": [
      "de\n",
      "que\n",
      "la\n",
      "a\n",
      "y\n",
      "el\n",
      "no\n",
      "en\n",
      "me\n",
      "to\n"
     ]
    },
    {
     "name": "stderr",
     "output_type": "stream",
     "text": [
      "C:\\ProgramData\\Anaconda3\\lib\\site-packages\\ipykernel_launcher.py:1: DeprecationWarning: Call to deprecated `wv` (Attribute will be removed in 4.0.0, use self instead).\n",
      "  \"\"\"Entry point for launching an IPython kernel.\n"
     ]
    }
   ],
   "source": [
    "word_vectors = model.wv\n",
    "count = 0\n",
    "for word in word_vectors.vocab:\n",
    "    if count<10:\n",
    "        print(word)\n",
    "        count += 1\n",
    "    else:\n",
    "        break"
   ]
  },
  {
   "cell_type": "code",
   "execution_count": 21,
   "metadata": {
    "collapsed": true
   },
   "outputs": [
    {
     "data": {
      "text/plain": [
       "{'de': <gensim.models.keyedvectors.Vocab at 0x1f436c984e0>,\n",
       " 'que': <gensim.models.keyedvectors.Vocab at 0x1f436c98400>,\n",
       " 'la': <gensim.models.keyedvectors.Vocab at 0x1f436c98550>,\n",
       " 'a': <gensim.models.keyedvectors.Vocab at 0x1f436c98470>,\n",
       " 'y': <gensim.models.keyedvectors.Vocab at 0x1f436c98588>,\n",
       " 'el': <gensim.models.keyedvectors.Vocab at 0x1f436c986d8>,\n",
       " 'no': <gensim.models.keyedvectors.Vocab at 0x1f436c985f8>,\n",
       " 'en': <gensim.models.keyedvectors.Vocab at 0x1f436c98748>,\n",
       " 'me': <gensim.models.keyedvectors.Vocab at 0x1f436c98668>,\n",
       " 'to': <gensim.models.keyedvectors.Vocab at 0x1f436c986a0>,\n",
       " 'es': <gensim.models.keyedvectors.Vocab at 0x1f436c987f0>,\n",
       " 'replying': <gensim.models.keyedvectors.Vocab at 0x1f436c98780>,\n",
       " 'con': <gensim.models.keyedvectors.Vocab at 0x1f436c98860>,\n",
       " 'se': <gensim.models.keyedvectors.Vocab at 0x1f436c989b0>,\n",
       " 'mi': <gensim.models.keyedvectors.Vocab at 0x1f436c98898>,\n",
       " 'un': <gensim.models.keyedvectors.Vocab at 0x1f436c98940>,\n",
       " 'lo': <gensim.models.keyedvectors.Vocab at 0x1f43309ef60>,\n",
       " 'los': <gensim.models.keyedvectors.Vocab at 0x1f436c98b00>,\n",
       " 'por': <gensim.models.keyedvectors.Vocab at 0x1f436c98908>,\n",
       " 'te': <gensim.models.keyedvectors.Vocab at 0x1f436c98b70>,\n",
       " 'para': <gensim.models.keyedvectors.Vocab at 0x1f436c98a58>,\n",
       " 'las': <gensim.models.keyedvectors.Vocab at 0x1f436c98be0>,\n",
       " 'twitter': <gensim.models.keyedvectors.Vocab at 0x1f436c98c50>,\n",
       " 'una': <gensim.models.keyedvectors.Vocab at 0x1f436c98ac8>,\n",
       " 'del': <gensim.models.keyedvectors.Vocab at 0x1f436c98cc0>,\n",
       " 'si': <gensim.models.keyedvectors.Vocab at 0x1f436c98e80>,\n",
       " 'ya': <gensim.models.keyedvectors.Vocab at 0x1f436c98d30>,\n",
       " 'como': <gensim.models.keyedvectors.Vocab at 0x1f436c98ef0>,\n",
       " 'yo': <gensim.models.keyedvectors.Vocab at 0x1f4363a1e10>,\n",
       " 'i': <gensim.models.keyedvectors.Vocab at 0x1f436c98f98>,\n",
       " 'at': <gensim.models.keyedvectors.Vocab at 0x1f43309e160>,\n",
       " 'm': <gensim.models.keyedvectors.Vocab at 0x1f436c98dd8>,\n",
       " 'al': <gensim.models.keyedvectors.Vocab at 0x1f43309eeb8>,\n",
       " 'pero': <gensim.models.keyedvectors.Vocab at 0x1f436c98f60>,\n",
       " 'q': <gensim.models.keyedvectors.Vocab at 0x1f43309ec50>,\n",
       " 'tu': <gensim.models.keyedvectors.Vocab at 0x1f44dff2080>,\n",
       " 'esta': <gensim.models.keyedvectors.Vocab at 0x1f436c98da0>,\n",
       " 'todo': <gensim.models.keyedvectors.Vocab at 0x1f44dff2198>,\n",
       " 'hoy': <gensim.models.keyedvectors.Vocab at 0x1f44dff2240>,\n",
       " 'mas': <gensim.models.keyedvectors.Vocab at 0x1f44dff2208>,\n",
       " 'in': <gensim.models.keyedvectors.Vocab at 0x1f44dff2278>,\n",
       " 'pic': <gensim.models.keyedvectors.Vocab at 0x1f44dff2400>,\n",
       " 'le': <gensim.models.keyedvectors.Vocab at 0x1f44dff2160>,\n",
       " 'quiero': <gensim.models.keyedvectors.Vocab at 0x1f44dff24a8>,\n",
       " 'cuando': <gensim.models.keyedvectors.Vocab at 0x1f44dff2320>,\n",
       " 'hay': <gensim.models.keyedvectors.Vocab at 0x1f44dff2470>,\n",
       " 'o': <gensim.models.keyedvectors.Vocab at 0x1f44dff2390>,\n",
       " 'mejor': <gensim.models.keyedvectors.Vocab at 0x1f44dff2550>,\n",
       " 'tengo': <gensim.models.keyedvectors.Vocab at 0x1f44dff27f0>,\n",
       " 'vida': <gensim.models.keyedvectors.Vocab at 0x1f44dff2588>,\n",
       " 'ahora': <gensim.models.keyedvectors.Vocab at 0x1f44dff2860>,\n",
       " 'su': <gensim.models.keyedvectors.Vocab at 0x1f44dff25f8>,\n",
       " 'este': <gensim.models.keyedvectors.Vocab at 0x1f44dff28d0>,\n",
       " 'd': <gensim.models.keyedvectors.Vocab at 0x1f44dff2668>,\n",
       " 'bien': <gensim.models.keyedvectors.Vocab at 0x1f44dff2710>,\n",
       " 'ser': <gensim.models.keyedvectors.Vocab at 0x1f44dff29b0>,\n",
       " 'nada': <gensim.models.keyedvectors.Vocab at 0x1f44dff2908>,\n",
       " 'voy': <gensim.models.keyedvectors.Vocab at 0x1f44dff2a20>,\n",
       " 'estoy': <gensim.models.keyedvectors.Vocab at 0x1f44dff2978>,\n",
       " 'gracias': <gensim.models.keyedvectors.Vocab at 0x1f44dff2a90>,\n",
       " 'nos': <gensim.models.keyedvectors.Vocab at 0x1f44dff2a58>,\n",
       " 'ver': <gensim.models.keyedvectors.Vocab at 0x1f44dff2b00>,\n",
       " 'todos': <gensim.models.keyedvectors.Vocab at 0x1f44dff2c18>,\n",
       " 'eso': <gensim.models.keyedvectors.Vocab at 0x1f44dff27b8>,\n",
       " 'sin': <gensim.models.keyedvectors.Vocab at 0x1f44dff2c88>,\n",
       " 'siempre': <gensim.models.keyedvectors.Vocab at 0x1f44dff2d30>,\n",
       " 'muy': <gensim.models.keyedvectors.Vocab at 0x1f44dff2cf8>,\n",
       " 'jajaja': <gensim.models.keyedvectors.Vocab at 0x1f44dff2d68>,\n",
       " 'son': <gensim.models.keyedvectors.Vocab at 0x1f44dff2dd8>,\n",
       " 'ni': <gensim.models.keyedvectors.Vocab at 0x1f44dff2ef0>,\n",
       " 'solo': <gensim.models.keyedvectors.Vocab at 0x1f44dff2fd0>,\n",
       " 'porque': <gensim.models.keyedvectors.Vocab at 0x1f44dff2f60>,\n",
       " 'mis': <gensim.models.keyedvectors.Vocab at 0x1f44dff2eb8>,\n",
       " 'casa': <gensim.models.keyedvectors.Vocab at 0x1f44dff3128>,\n",
       " 'amor': <gensim.models.keyedvectors.Vocab at 0x1f44dff3080>,\n",
       " 'tan': <gensim.models.keyedvectors.Vocab at 0x1f44dff3208>,\n",
       " 'va': <gensim.models.keyedvectors.Vocab at 0x1f44dff30f0>,\n",
       " 'dios': <gensim.models.keyedvectors.Vocab at 0x1f44dff3278>,\n",
       " 'san': <gensim.models.keyedvectors.Vocab at 0x1f44dff31d0>,\n",
       " 'hace': <gensim.models.keyedvectors.Vocab at 0x1f44dff3358>,\n",
       " 'soy': <gensim.models.keyedvectors.Vocab at 0x1f44dff34e0>,\n",
       " 'feliz': <gensim.models.keyedvectors.Vocab at 0x1f44dff33c8>,\n",
       " 'tiene': <gensim.models.keyedvectors.Vocab at 0x1f44dff3550>,\n",
       " 'others': <gensim.models.keyedvectors.Vocab at 0x1f44dff32e8>,\n",
       " 'hacer': <gensim.models.keyedvectors.Vocab at 0x1f44dff35c0>,\n",
       " 'hasta': <gensim.models.keyedvectors.Vocab at 0x1f44dff3438>,\n",
       " 'bueno': <gensim.models.keyedvectors.Vocab at 0x1f44dff3710>,\n",
       " 'dia': <gensim.models.keyedvectors.Vocab at 0x1f44dff3630>,\n",
       " 'vamos': <gensim.models.keyedvectors.Vocab at 0x1f44dff37b8>,\n",
       " 'algo': <gensim.models.keyedvectors.Vocab at 0x1f44dff36a0>,\n",
       " 'mucho': <gensim.models.keyedvectors.Vocab at 0x1f44dff3828>,\n",
       " 'nunca': <gensim.models.keyedvectors.Vocab at 0x1f44dff3908>,\n",
       " 'buenos': <gensim.models.keyedvectors.Vocab at 0x1f44dff3780>,\n",
       " 'quien': <gensim.models.keyedvectors.Vocab at 0x1f44dff3978>,\n",
       " 'gente': <gensim.models.keyedvectors.Vocab at 0x1f436bd6320>,\n",
       " 'ti': <gensim.models.keyedvectors.Vocab at 0x1f44dff39e8>,\n",
       " 'vez': <gensim.models.keyedvectors.Vocab at 0x1f44dff3ba8>,\n",
       " 'rt': <gensim.models.keyedvectors.Vocab at 0x1f44dff3b38>,\n",
       " 'ir': <gensim.models.keyedvectors.Vocab at 0x1f44dff3c18>,\n",
       " 'cosas': <gensim.models.keyedvectors.Vocab at 0x1f44dff3a58>,\n",
       " 'amo': <gensim.models.keyedvectors.Vocab at 0x1f44dff3c88>,\n",
       " 'noche': <gensim.models.keyedvectors.Vocab at 0x1f44dff3ac8>,\n",
       " 'eres': <gensim.models.keyedvectors.Vocab at 0x1f44dff3cf8>,\n",
       " 'ha': <gensim.models.keyedvectors.Vocab at 0x1f44dff3da0>,\n",
       " 'esto': <gensim.models.keyedvectors.Vocab at 0x1f44dff3ef0>,\n",
       " 'jaja': <gensim.models.keyedvectors.Vocab at 0x1f44dff3e10>,\n",
       " 'jajajaja': <gensim.models.keyedvectors.Vocab at 0x1f44dff3f60>,\n",
       " 'estar': <gensim.models.keyedvectors.Vocab at 0x1f44dff3e80>,\n",
       " 'tiempo': <gensim.models.keyedvectors.Vocab at 0x1f44dff3fd0>,\n",
       " 'mal': <gensim.models.keyedvectors.Vocab at 0x1f44dff3eb8>,\n",
       " 's': <gensim.models.keyedvectors.Vocab at 0x1f44dff60f0>,\n",
       " 'ese': <gensim.models.keyedvectors.Vocab at 0x1f44dff6080>,\n",
       " 'pues': <gensim.models.keyedvectors.Vocab at 0x1f44dff6198>,\n",
       " 'mundo': <gensim.models.keyedvectors.Vocab at 0x1f44dff62b0>,\n",
       " 'esa': <gensim.models.keyedvectors.Vocab at 0x1f44dff6208>,\n",
       " 'xd': <gensim.models.keyedvectors.Vocab at 0x1f44dff6320>,\n",
       " 'fue': <gensim.models.keyedvectors.Vocab at 0x1f44dff6278>,\n",
       " 'alguien': <gensim.models.keyedvectors.Vocab at 0x1f44dff6358>,\n",
       " 'buen': <gensim.models.keyedvectors.Vocab at 0x1f44dff63c8>,\n",
       " 'dormir': <gensim.models.keyedvectors.Vocab at 0x1f44dff64e0>,\n",
       " 'puede': <gensim.models.keyedvectors.Vocab at 0x1f44dff6518>,\n",
       " 'buenas': <gensim.models.keyedvectors.Vocab at 0x1f44dff6470>,\n",
       " 'desde': <gensim.models.keyedvectors.Vocab at 0x1f44dff6668>,\n",
       " 'menos': <gensim.models.keyedvectors.Vocab at 0x1f44dff65c0>,\n",
       " 'puedo': <gensim.models.keyedvectors.Vocab at 0x1f44dff66d8>,\n",
       " 'semana': <gensim.models.keyedvectors.Vocab at 0x1f44dff6828>,\n",
       " 'cada': <gensim.models.keyedvectors.Vocab at 0x1f44dff6780>,\n",
       " 'uno': <gensim.models.keyedvectors.Vocab at 0x1f44dff6630>,\n",
       " 'x': <gensim.models.keyedvectors.Vocab at 0x1f44dff67f0>,\n",
       " 'fin': <gensim.models.keyedvectors.Vocab at 0x1f44dff6898>,\n",
       " 'donde': <gensim.models.keyedvectors.Vocab at 0x1f44dff6a58>,\n",
       " 'da': <gensim.models.keyedvectors.Vocab at 0x1f44dff6908>,\n",
       " 'nuevo': <gensim.models.keyedvectors.Vocab at 0x1f44dff6ac8>,\n",
       " 'sea': <gensim.models.keyedvectors.Vocab at 0x1f44dff6978>,\n",
       " 'buena': <gensim.models.keyedvectors.Vocab at 0x1f44dff6b38>,\n",
       " 'he': <gensim.models.keyedvectors.Vocab at 0x1f44dff68d0>,\n",
       " 'dos': <gensim.models.keyedvectors.Vocab at 0x1f44dff6c88>,\n",
       " 'nadie': <gensim.models.keyedvectors.Vocab at 0x1f44dff6b70>,\n",
       " 'sus': <gensim.models.keyedvectors.Vocab at 0x1f44dff6ba8>,\n",
       " 'pa': <gensim.models.keyedvectors.Vocab at 0x1f44dff6c18>,\n",
       " 'creo': <gensim.models.keyedvectors.Vocab at 0x1f44dff6dd8>,\n",
       " 'ganas': <gensim.models.keyedvectors.Vocab at 0x1f44dff6d30>,\n",
       " 'asi': <gensim.models.keyedvectors.Vocab at 0x1f44dff6e48>,\n",
       " 'tus': <gensim.models.keyedvectors.Vocab at 0x1f44dff6f28>,\n",
       " 'estas': <gensim.models.keyedvectors.Vocab at 0x1f44dff6fd0>,\n",
       " 'les': <gensim.models.keyedvectors.Vocab at 0x1f44dff6eb8>,\n",
       " 'tener': <gensim.models.keyedvectors.Vocab at 0x1f44dffb080>,\n",
       " 'otra': <gensim.models.keyedvectors.Vocab at 0x1f44dff6f98>,\n",
       " 'tarde': <gensim.models.keyedvectors.Vocab at 0x1f44dffb128>,\n",
       " 'tanto': <gensim.models.keyedvectors.Vocab at 0x1f44dffb240>}"
      ]
     },
     "execution_count": 21,
     "metadata": {},
     "output_type": "execute_result"
    }
   ],
   "source": [
    "wanted_words = []\n",
    "count = 0\n",
    "for word in word_vectors.vocab:\n",
    "    if count<150:\n",
    "        wanted_words.append(word)\n",
    "        count += 1\n",
    "    else:\n",
    "        break\n",
    "wanted_vocab = dict((k, word_vectors.vocab[k]) for k in wanted_words if k in word_vectors.vocab)\n",
    "wanted_vocab"
   ]
  },
  {
   "cell_type": "code",
   "execution_count": 23,
   "metadata": {},
   "outputs": [],
   "source": [
    "from sklearn.manifold import TSNE\n",
    "\n",
    "X = model[wanted_vocab] # X is an array of word vectors, each vector containing 150 tokens\n",
    "tsne_model = TSNE(perplexity=40, n_components=2, init=\"pca\", n_iter=5000, random_state=23)\n",
    "Y = tsne_model.fit_transform(X)"
   ]
  },
  {
   "cell_type": "code",
   "execution_count": 26,
   "metadata": {},
   "outputs": [
    {
     "data": {
      "image/png": "[encoded data removed]",
      "text/plain": [
       "<Figure size 1440x720 with 1 Axes>"
      ]
     },
     "metadata": {
      "needs_background": "light"
     },
     "output_type": "display_data"
    }
   ],
   "source": [
    "import matplotlib.pyplot as plt\n",
    "\n",
    "\n",
    "#Plot the t-SNE output\n",
    "fig, ax = plt.subplots(figsize=(20,10))\n",
    "ax.scatter(Y[:, 0], Y[:, 1])\n",
    "words = list(wanted_vocab)\n",
    "for i, word in enumerate(words):\n",
    "    plt.annotate(word, xy=(Y[i, 0], Y[i, 1]))\n",
    "ax.set_yticklabels([]) #Hide ticks\n",
    "ax.set_xticklabels([]) #Hide ticks\n",
    "_ = plt.show()"
   ]
  }
 ],
 "metadata": {
  "kernelspec": {
   "display_name": "Python 3",
   "language": "python",
   "name": "python3"
  },
  "language_info": {
   "codemirror_mode": {
    "name": "ipython",
    "version": 3
   },
   "file_extension": ".py",
   "mimetype": "text/x-python",
   "name": "python",
   "nbconvert_exporter": "python",
   "pygments_lexer": "ipython3",
   "version": "3.7.1"
  }
 },
 "nbformat": 4,
 "nbformat_minor": 2
}
