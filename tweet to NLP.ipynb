{
 "cells": [
  {
   "cell_type": "code",
   "execution_count": 1,
   "metadata": {},
   "outputs": [],
   "source": [
    "import pandas as pd"
   ]
  },
  {
   "cell_type": "code",
   "execution_count": 121,
   "metadata": {},
   "outputs": [
    {
     "name": "stdout",
     "output_type": "stream",
     "text": [
      "Index(['Texto', 'IdUsuario', 'FechaCreacion', 'IdTweet', 'NombreUsuario',\n",
      "       'FechaCreacionTweet', 'Hashtags', 'Url'],\n",
      "      dtype='object') (1268, 8)\n"
     ]
    }
   ],
   "source": [
    "df = pd.read_csv(\"data/stream_e.csv\", sep = \"ef5r64i\", engine = \"python\")\n",
    "print(df.columns, df.shape)\n"
   ]
  },
  {
   "cell_type": "code",
   "execution_count": 122,
   "metadata": {},
   "outputs": [
    {
     "data": {
      "text/plain": [
       "1189"
      ]
     },
     "execution_count": 122,
     "metadata": {},
     "output_type": "execute_result"
    }
   ],
   "source": [
    "#Creating the dict with unique users and a list for the tweets they have written\n",
    "corpus = {}\n",
    "for i in range(df.shape[0]):\n",
    "    if df.iloc[i][\"NombreUsuario\"] in corpus:\n",
    "        corpus[df.iloc[i][\"NombreUsuario\"]].append(df.iloc[i][\"Texto\"])\n",
    "    else:\n",
    "        corpus[df.iloc[i][\"NombreUsuario\"]] = [df.iloc[i][\"Texto\"]]\n",
    "len(corpus)"
   ]
  },
  {
   "cell_type": "code",
   "execution_count": null,
   "metadata": {},
   "outputs": [],
   "source": []
  }
 ],
 "metadata": {
  "kernelspec": {
   "display_name": "Python 3",
   "language": "python",
   "name": "python3"
  },
  "language_info": {
   "codemirror_mode": {
    "name": "ipython",
    "version": 3
   },
   "file_extension": ".py",
   "mimetype": "text/x-python",
   "name": "python",
   "nbconvert_exporter": "python",
   "pygments_lexer": "ipython3",
   "version": "3.6.5"
  }
 },
 "nbformat": 4,
 "nbformat_minor": 2
}
