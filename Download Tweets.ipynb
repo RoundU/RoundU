{
 "cells": [
  {
   "cell_type": "code",
   "execution_count": 1,
   "metadata": {},
   "outputs": [],
   "source": [
    "import tweepy\n",
    "import numpy as np"
   ]
  },
  {
   "cell_type": "code",
   "execution_count": 2,
   "metadata": {},
   "outputs": [],
   "source": [
    "from tweepy import OAuthHandler\n",
    " \n",
    "consumer_key = 'F3Z91UCIvW3teaTezQ73latlm'\n",
    "consumer_secret = 'ZtL3m84d1pW3zzyOsHDh7nlqYzICly5Jy4QviCiYMTQYvWOppP'\n",
    "access_token = '1107726229816467457-Eu3qMi2Dj0qpT6P0UhJWAsDoPhNcRS'\n",
    "access_secret = 'ia5Jo1x1dvTYKxO9h0PDAzXQfS55Z8cyLKnzlVHjUaifC'\n",
    " \n",
    "auth = OAuthHandler(consumer_key, consumer_secret)\n",
    "auth.set_access_token(access_token, access_secret)\n",
    " \n",
    "api = tweepy.API(auth)"
   ]
  },
  {
   "cell_type": "code",
   "execution_count": 39,
   "metadata": {},
   "outputs": [
    {
     "name": "stdout",
     "output_type": "stream",
     "text": [
      "What's up, #People?\n",
      "Hello World! #Bots\n"
     ]
    }
   ],
   "source": [
    "#print our tweets\n",
    "for status in tweepy.Cursor(api.home_timeline).items(10):\n",
    "    # Process a single status\n",
    "    print(status.text)"
   ]
  },
  {
   "cell_type": "code",
   "execution_count": 43,
   "metadata": {},
   "outputs": [],
   "source": [
    "lista = list()"
   ]
  },
  {
   "cell_type": "code",
   "execution_count": 40,
   "metadata": {},
   "outputs": [],
   "source": [
    "def process_or_store(x):\n",
    "    #storage function\n",
    "    lista.append(x)"
   ]
  },
  {
   "cell_type": "code",
   "execution_count": 41,
   "metadata": {},
   "outputs": [],
   "source": [
    "for status in tweepy.Cursor(api.home_timeline).items(10):\n",
    "    # storing tweets in our list\n",
    "    process_or_store(status._json)"
   ]
  },
  {
   "cell_type": "code",
   "execution_count": 42,
   "metadata": {},
   "outputs": [
    {
     "data": {
      "text/plain": [
       "{'created_at': 'Wed Mar 20 13:40:29 +0000 2019',\n",
       " 'id': 1108362677594869760,\n",
       " 'id_str': '1108362677594869760',\n",
       " 'text': \"What's up, #People?\",\n",
       " 'truncated': False,\n",
       " 'entities': {'hashtags': [{'text': 'People', 'indices': [11, 18]}],\n",
       "  'symbols': [],\n",
       "  'user_mentions': [],\n",
       "  'urls': []},\n",
       " 'source': '<a href=\"http://twitter.com\" rel=\"nofollow\">Twitter Web Client</a>',\n",
       " 'in_reply_to_status_id': None,\n",
       " 'in_reply_to_status_id_str': None,\n",
       " 'in_reply_to_user_id': None,\n",
       " 'in_reply_to_user_id_str': None,\n",
       " 'in_reply_to_screen_name': None,\n",
       " 'user': {'id': 1107726229816467457,\n",
       "  'id_str': '1107726229816467457',\n",
       "  'name': 'BuddyFinder',\n",
       "  'screen_name': 'FinderBuddy',\n",
       "  'location': 'Barcelona, Spain',\n",
       "  'description': '',\n",
       "  'url': None,\n",
       "  'entities': {'description': {'urls': []}},\n",
       "  'protected': False,\n",
       "  'followers_count': 0,\n",
       "  'friends_count': 0,\n",
       "  'listed_count': 0,\n",
       "  'created_at': 'Mon Mar 18 19:31:28 +0000 2019',\n",
       "  'favourites_count': 0,\n",
       "  'utc_offset': None,\n",
       "  'time_zone': None,\n",
       "  'geo_enabled': False,\n",
       "  'verified': False,\n",
       "  'statuses_count': 2,\n",
       "  'lang': 'en',\n",
       "  'contributors_enabled': False,\n",
       "  'is_translator': False,\n",
       "  'is_translation_enabled': False,\n",
       "  'profile_background_color': 'F5F8FA',\n",
       "  'profile_background_image_url': None,\n",
       "  'profile_background_image_url_https': None,\n",
       "  'profile_background_tile': False,\n",
       "  'profile_image_url': 'http://abs.twimg.com/sticky/default_profile_images/default_profile_normal.png',\n",
       "  'profile_image_url_https': 'https://abs.twimg.com/sticky/default_profile_images/default_profile_normal.png',\n",
       "  'profile_link_color': '1DA1F2',\n",
       "  'profile_sidebar_border_color': 'C0DEED',\n",
       "  'profile_sidebar_fill_color': 'DDEEF6',\n",
       "  'profile_text_color': '333333',\n",
       "  'profile_use_background_image': True,\n",
       "  'has_extended_profile': False,\n",
       "  'default_profile': True,\n",
       "  'default_profile_image': True,\n",
       "  'following': False,\n",
       "  'follow_request_sent': False,\n",
       "  'notifications': False,\n",
       "  'translator_type': 'none'},\n",
       " 'geo': None,\n",
       " 'coordinates': None,\n",
       " 'place': None,\n",
       " 'contributors': None,\n",
       " 'is_quote_status': False,\n",
       " 'retweet_count': 0,\n",
       " 'favorite_count': 0,\n",
       " 'favorited': False,\n",
       " 'retweeted': False,\n",
       " 'lang': 'en'}"
      ]
     },
     "execution_count": 42,
     "metadata": {},
     "output_type": "execute_result"
    }
   ],
   "source": [
    "#data gathered from one tweet\n",
    "lista[0]"
   ]
  },
  {
   "cell_type": "code",
   "execution_count": null,
   "metadata": {},
   "outputs": [],
   "source": [
    "#What if we want to have a list of all our followers? There you go:\n",
    "for friend in tweepy.Cursor(api.friends).items():\n",
    "    process_or_store(friend._json)\n",
    "\n",
    "#And how about a list of all our tweets? Simple:\n",
    "for tweet in tweepy.Cursor(api.user_timeline).items():\n",
    "    process_or_store(tweet._json)"
   ]
  },
  {
   "cell_type": "markdown",
   "metadata": {},
   "source": [
    "______________________________________________________________"
   ]
  },
  {
   "cell_type": "code",
   "execution_count": 8,
   "metadata": {},
   "outputs": [],
   "source": [
    "#print all user data\n",
    "user = api.get_user('AFCAjax')\n",
    "#print(user)"
   ]
  },
  {
   "cell_type": "code",
   "execution_count": 23,
   "metadata": {},
   "outputs": [],
   "source": [
    "lista = []\n",
    "for tweet in tweepy.Cursor(api.user_timeline, id=\"AFCAjax\", tweet_mode=\"extended\").items(10):\n",
    "    lista.append(tweet.full_text)\n"
   ]
  },
  {
   "cell_type": "code",
   "execution_count": 26,
   "metadata": {},
   "outputs": [
    {
     "data": {
      "text/plain": [
       "'RT @AjaxFancare: Aangepast verkoopschema Ajax - Juventus!\\n\\nWe willen alle seizoenkaarthouders de mogelijkheid geven om hun gereserveerde ka…'"
      ]
     },
     "execution_count": 26,
     "metadata": {},
     "output_type": "execute_result"
    }
   ],
   "source": [
    "#no se guardan todas las palabras del mensaje, incluir , tweet_mode=\"extended\" y ni aun asi\n",
    "lista[9]"
   ]
  },
  {
   "cell_type": "code",
   "execution_count": null,
   "metadata": {},
   "outputs": [],
   "source": []
  }
 ],
 "metadata": {
  "kernelspec": {
   "display_name": "Python 3",
   "language": "python",
   "name": "python3"
  },
  "language_info": {
   "codemirror_mode": {
    "name": "ipython",
    "version": 3
   },
   "file_extension": ".py",
   "mimetype": "text/x-python",
   "name": "python",
   "nbconvert_exporter": "python",
   "pygments_lexer": "ipython3",
   "version": "3.7.1"
  }
 },
 "nbformat": 4,
 "nbformat_minor": 2
}
