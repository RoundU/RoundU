{
 "cells": [
  {
   "cell_type": "code",
   "execution_count": 1,
   "metadata": {},
   "outputs": [],
   "source": [
    "import pandas as pd\n",
    "import tweepy"
   ]
  },
  {
   "cell_type": "code",
   "execution_count": 2,
   "metadata": {},
   "outputs": [
    {
     "data": {
      "text/plain": [
       "Index(['CONSUMER_KEY', 'CONSUMER_SECRET', 'ACCESS_TOKEN', 'ACCESS_SECRET'], dtype='object')"
      ]
     },
     "execution_count": 2,
     "metadata": {},
     "output_type": "execute_result"
    }
   ],
   "source": [
    "credentials = pd.read_csv(\"twitter_credentials.csv\", sep=\";\")\n",
    "credentials.columns"
   ]
  },
  {
   "cell_type": "code",
   "execution_count": 3,
   "metadata": {},
   "outputs": [],
   "source": [
    "auth = tweepy.OAuthHandler(credentials[\"CONSUMER_KEY\"], credentials[\"CONSUMER_SECRET\"])\n",
    "auth.set_access_token(credentials[\"ACCESS_TOKEN\"], credentials[\"ACCESS_SECRET\"])\n",
    "api = tweepy.API(auth)"
   ]
  },
  {
   "cell_type": "code",
   "execution_count": 4,
   "metadata": {},
   "outputs": [
    {
     "name": "stderr",
     "output_type": "stream",
     "text": [
      "C:\\Users\\aitor\\Anaconda3\\lib\\site-packages\\flask_sqlalchemy\\__init__.py:774: UserWarning: Neither SQLALCHEMY_DATABASE_URI nor SQLALCHEMY_BINDS is set. Defaulting SQLALCHEMY_DATABASE_URI to \"sqlite:///:memory:\".\n",
      "  'Neither SQLALCHEMY_DATABASE_URI nor SQLALCHEMY_BINDS is set. '\n",
      "C:\\Users\\aitor\\Anaconda3\\lib\\site-packages\\flask_sqlalchemy\\__init__.py:794: FSADeprecationWarning: SQLALCHEMY_TRACK_MODIFICATIONS adds significant overhead and will be disabled by default in the future.  Set it to True or False to suppress this warning.\n",
      "  'SQLALCHEMY_TRACK_MODIFICATIONS adds significant overhead and '\n"
     ]
    }
   ],
   "source": [
    "from flask import Flask\n",
    "from flask_sqlalchemy import SQLAlchemy\n",
    "\n",
    "server = Flask(__name__)\n",
    "db = SQLAlchemy(server)\n",
    "\n",
    "class Tweet(db.Model):\n",
    "    __tablename__= \"tweets\"\n",
    "    id = db.Column(db.Integer, primary_key=True)\n",
    "    text = db.Column(db.String(320))\n",
    "    created_time=db.Column(db.DateTime)\n",
    "    retweets = db.Column(db.Integer)\n",
    "    user_id = db.Column(db.Integer, db.ForeignKey(\"users.id\"))\n",
    "    user = db.relationship(\"User\", back_populates=\"tweets\")\n",
    "    \n",
    "class User(db.Model):\n",
    "    __tablename__ = \"users\"\n",
    "    id = db.Column(db.Integer, primary_key=True)\n",
    "    created = db.Column(db.DateTime)\n",
    "    description = db.Column(db.String(200))\n",
    "    location =  db.Column(db.String(200))\n",
    "    followers = db.Column(db.Integer)\n",
    "    friends = db.Column(db.Integer)\n",
    "    statuses = db.Column(db.Integer)\n",
    "    tweets = db.relationship(\"Tweet\", back_populates=\"user\")\n",
    "\n",
    "db.create_all()"
   ]
  },
  {
   "cell_type": "code",
   "execution_count": null,
   "metadata": {},
   "outputs": [],
   "source": [
    "class StreamListener(tweepy.StreamListener):\n",
    "    def on_connect(self):\n",
    "        print(\"now we are saving from twitter\")\n",
    "    \n",
    "    def on_status(self):\n",
    "        text=status.text\n",
    "        created_time=status.created_at\n",
    "        retweets=status.retweet_count\n",
    "        created = status.user.created_at\n",
    "        description = status.user.description\n",
    "        location = status.user.location\n",
    "        followers = status.user.followers_count\n",
    "        friends = status.user.friends_count\n",
    "        statuses = status.user.status_count\n",
    "        count +=1\n",
    "        check_user(text, created_time, retweets, created,\n",
    "                  description, location, followers, \n",
    "                  friends, statuses)\n",
    "        print(\"Tweet count:{}\".format(count))\n",
    "        \n",
    "    def on_error(self, status_code):\n",
    "        if status_code == 420:\n",
    "            return False\n",
    "\n",
    "stream = tweepy.Stream(auth=api.auth, listener=StreamListener)\n",
    "while True:\n",
    "    try:\n",
    "        stream.filter(track=[\"pizza\"])\n",
    "    except:\n",
    "        continue"
   ]
  },
  {
   "cell_type": "code",
   "execution_count": null,
   "metadata": {},
   "outputs": [],
   "source": [
    "engine = create_engine(\"roundu.database.windows.net\")\n",
    "Session = sessionmaker(bind=engine)\n",
    "sesion = Session()\n",
    "count = 0\n",
    "\n",
    "def add_item(item):\n",
    "    db.session.add(item)\n",
    "    db.session.commit()\n",
    "\n",
    "def check_user(text, created_time, retweets, user_created, description, location, followers, friends, statuses):\n",
    "    if userid not in [user.user_id for users in User.query.all()]:\n",
    "        user = User(user_id = uid, created = created, description = description,location = location, followers= followers, friends=friends, statuses = statuses)\n",
    "        add_item(user)\n",
    "        add_item(Tweet(text = text, created = created, retweets = retweets, user_id = user.id, description = description))\n",
    "    else:\n",
    "        user = [user for user in User.query.all() if userid = user.user_id][0]\n",
    "        add_item(Tweet(text = text, created = created, retweets = retweets, user_id = user.id, description = description))\n"
   ]
  },
  {
   "cell_type": "code",
   "execution_count": null,
   "metadata": {},
   "outputs": [],
   "source": []
  }
 ],
 "metadata": {
  "kernelspec": {
   "display_name": "Python 3",
   "language": "python",
   "name": "python3"
  },
  "language_info": {
   "codemirror_mode": {
    "name": "ipython",
    "version": 3
   },
   "file_extension": ".py",
   "mimetype": "text/x-python",
   "name": "python",
   "nbconvert_exporter": "python",
   "pygments_lexer": "ipython3",
   "version": "3.6.5"
  }
 },
 "nbformat": 4,
 "nbformat_minor": 2
}
